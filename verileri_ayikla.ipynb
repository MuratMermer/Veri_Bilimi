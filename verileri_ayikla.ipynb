{
 "cells": [
  {
   "cell_type": "markdown",
   "metadata": {},
   "source": [
    "# Ege Bölgesi için bir kira tahmin uygulaması"
   ]
  },
  {
   "cell_type": "code",
   "execution_count": 1,
   "metadata": {},
   "outputs": [],
   "source": [
    "import os\n",
    "import numpy as np\n",
    "import pandas as pd"
   ]
  },
  {
   "cell_type": "code",
   "execution_count": 2,
   "metadata": {},
   "outputs": [],
   "source": [
    "def drop_columns(df, cols):\n",
    "    \"\"\"\n",
    "    This function removes the columns from a DataFrame.\n",
    "    \"\"\"\n",
    "    for col in cols:\n",
    "        try:\n",
    "            df.drop([col], axis=1, inplace=True)\n",
    "        except Exception as e:\n",
    "            print(f\"Bir hata oluştu: {e}\")"
   ]
  },
  {
   "cell_type": "code",
   "execution_count": 3,
   "metadata": {},
   "outputs": [],
   "source": [
    "files = os.listdir('hepsiemlak')\n",
    "df = pd.concat([pd.read_csv(f\"hepsiemlak/{file}\") for file in files], ignore_index=True)"
   ]
  },
  {
   "cell_type": "code",
   "execution_count": 4,
   "metadata": {},
   "outputs": [
    {
     "name": "stdout",
     "output_type": "stream",
     "text": [
      "<class 'pandas.core.frame.DataFrame'>\n",
      "RangeIndex: 8136 entries, 0 to 8135\n",
      "Data columns (total 18 columns):\n",
      " #   Column               Non-Null Count  Dtype  \n",
      "---  ------               --------------  -----  \n",
      " 0   img-link href        8136 non-null   object \n",
      " 1   photo-count          8130 non-null   float64\n",
      " 2   list-view-price      8136 non-null   object \n",
      " 3   list-view-date       8136 non-null   object \n",
      " 4   left                 8114 non-null   object \n",
      " 5   celly                8136 non-null   object \n",
      " 6   celly 2              8136 non-null   object \n",
      " 7   celly 3              8136 non-null   object \n",
      " 8   celly 4              6858 non-null   object \n",
      " 9   list-view-location   8136 non-null   object \n",
      " 10  img-wrp href         4555 non-null   object \n",
      " 11  he-lazy-image src    7649 non-null   object \n",
      " 12  he-lazy-image src 2  4067 non-null   object \n",
      " 13  list-view-header     8129 non-null   object \n",
      " 14  branded__text        134 non-null    object \n",
      " 15  branded__text 2      134 non-null    object \n",
      " 16  img-wrp href 2       133 non-null    object \n",
      " 17  he-lazy-image src 3  116 non-null    object \n",
      "dtypes: float64(1), object(17)\n",
      "memory usage: 1.1+ MB\n",
      "None\n"
     ]
    }
   ],
   "source": [
    "print(df.info())"
   ]
  },
  {
   "cell_type": "code",
   "execution_count": 5,
   "metadata": {},
   "outputs": [
    {
     "name": "stdout",
     "output_type": "stream",
     "text": [
      "Index(['img-link href', 'photo-count', 'list-view-price', 'list-view-date',\n",
      "       'left', 'celly', 'celly 2', 'celly 3', 'celly 4', 'list-view-location',\n",
      "       'img-wrp href', 'he-lazy-image src', 'he-lazy-image src 2',\n",
      "       'list-view-header', 'branded__text', 'branded__text 2',\n",
      "       'img-wrp href 2', 'he-lazy-image src 3'],\n",
      "      dtype='object')\n"
     ]
    }
   ],
   "source": [
    "print(df.columns)"
   ]
  },
  {
   "cell_type": "code",
   "execution_count": 6,
   "metadata": {},
   "outputs": [],
   "source": [
    "cols = ['photo-count', 'list-view-date', 'list-view-header', 'list-view-location', 'he-lazy-image src', 'left', 'img-wrp href', 'he-lazy-image src 2', 'branded__text', 'branded__text 2', 'img-wrp href 2', 'he-lazy-image src 3']\n",
    "drop_columns(df, cols)\n"
   ]
  },
  {
   "cell_type": "code",
   "execution_count": 7,
   "metadata": {},
   "outputs": [
    {
     "name": "stdout",
     "output_type": "stream",
     "text": [
      "<class 'pandas.core.frame.DataFrame'>\n",
      "RangeIndex: 8136 entries, 0 to 8135\n",
      "Data columns (total 6 columns):\n",
      " #   Column           Non-Null Count  Dtype \n",
      "---  ------           --------------  ----- \n",
      " 0   img-link href    8136 non-null   object\n",
      " 1   list-view-price  8136 non-null   object\n",
      " 2   celly            8136 non-null   object\n",
      " 3   celly 2          8136 non-null   object\n",
      " 4   celly 3          8136 non-null   object\n",
      " 5   celly 4          6858 non-null   object\n",
      "dtypes: object(6)\n",
      "memory usage: 381.5+ KB\n",
      "None\n"
     ]
    }
   ],
   "source": [
    "print(df.info())"
   ]
  },
  {
   "cell_type": "code",
   "execution_count": 8,
   "metadata": {},
   "outputs": [],
   "source": [
    "s= \"https://www.hepsiemlak.com/izmir-bornova-kazimdirik-kiralik/daire/0-42453411\""
   ]
  },
  {
   "cell_type": "code",
   "execution_count": 9,
   "metadata": {},
   "outputs": [],
   "source": [
    "x =s.split('/')[3]\n"
   ]
  },
  {
   "cell_type": "code",
   "execution_count": 10,
   "metadata": {},
   "outputs": [
    {
     "data": {
      "text/plain": [
       "['kazimdirik']"
      ]
     },
     "execution_count": 10,
     "metadata": {},
     "output_type": "execute_result"
    }
   ],
   "source": [
    "x.split('-')[2:-1]"
   ]
  },
  {
   "cell_type": "code",
   "execution_count": 11,
   "metadata": {},
   "outputs": [],
   "source": [
    "df['location'] = df['img-link href'].apply(lambda x: x.split('/')[3])\n",
    "df['city'] = df['location'].str.split('-').str[0]\n",
    "df['district'] = df['location'].str.split('-').str[1]\n",
    "df['neighborhood'] = df['location'].str.split('-').str[2:-1]\n",
    "df['neighborhood'] = df['neighborhood'].apply(lambda x: '_'.join(x))\n",
    "\n",
    "drop_columns(df,['location', 'img-link href'])"
   ]
  },
  {
   "cell_type": "code",
   "execution_count": 12,
   "metadata": {},
   "outputs": [
    {
     "name": "stdout",
     "output_type": "stream",
     "text": [
      "         city      district        neighborhood\n",
      "6713    mugla        bodrum            turkbuku\n",
      "4793    aydin    incirliova            hurriyet\n",
      "494     izmir         konak          mithatpasa\n",
      "750     izmir     karsiyaka            semikler\n",
      "4163    aydin      kusadasi            davutlar\n",
      "6414    mugla      marmaris           armutalan\n",
      "4622    aydin        efeler      adnan_menderes\n",
      "3203    izmir    karabaglar    ali_fuat_cebesoy\n",
      "5901    mugla        bodrum            gundogan\n",
      "7882    mugla       mentese             kotekli\n",
      "2819    izmir         cesme         ismet_inonu\n",
      "2460    izmir         konak             goztepe\n",
      "5026  denizli     pamukkale         asmalievler\n",
      "3746   manisa      turgutlu          cumhuriyet\n",
      "5543  denizli  merkezefendi              adalet\n",
      "2122    izmir          buca             adatepe\n",
      "7150    mugla        bodrum           eskicesme\n",
      "5165  denizli  merkezefendi         karahasanli\n",
      "3929     usak        merkez          cumhuriyet\n",
      "5177  denizli  merkezefendi           hallaclar\n",
      "3278    izmir         konak            alsancak\n",
      "249     izmir   seferihisar            hidirlik\n",
      "6917    mugla         milas                oren\n",
      "7419    mugla        bodrum            akyarlar\n",
      "2693    izmir       torbali            muratbey\n",
      "2104    izmir       menemen   85_yil_cumhuriyet\n",
      "982     izmir         konak    mehmet_ali_akman\n",
      "1228    izmir          buca             inkilap\n",
      "783     izmir    karabaglar             poligon\n",
      "2945    izmir          buca             yenigun\n",
      "3350    izmir         cesme             alacati\n",
      "7366    mugla       mentese               bayir\n",
      "6424    mugla        ortaca            kemaliye\n",
      "3275    izmir    karabaglar          karabaglar\n",
      "4546    aydin      kusadasi          guzelcamli\n",
      "5319  denizli  merkezefendi              adalet\n",
      "7063    mugla        bodrum            gumusluk\n",
      "5322  denizli     pamukkale             kayihan\n",
      "3605    izmir         cesme               ardic\n",
      "6191    mugla        bodrum              umurca\n",
      "1159    izmir         konak             gunesli\n",
      "4455    aydin      kusadasi          cumhuriyet\n",
      "7605    mugla        ortaca          cumhuriyet\n",
      "2048    izmir         cesme          cumhuriyet\n",
      "1342    izmir         konak              kultur\n",
      "1489    izmir       menemen  gazi_mustafa_kemal\n",
      "2371    izmir     karsiyaka         fikri_altay\n",
      "433     izmir    karabaglar             doganay\n",
      "2071    izmir         cesme               ilica\n",
      "7875    mugla       mentese         emirbeyazit\n"
     ]
    }
   ],
   "source": [
    "print(df[['city', 'district', 'neighborhood']].sample(50))"
   ]
  },
  {
   "cell_type": "code",
   "execution_count": 13,
   "metadata": {},
   "outputs": [
    {
     "name": "stdout",
     "output_type": "stream",
     "text": [
      "['1 +\\n                        1' '3 +\\n                        1'\n",
      " '2 +\\n                        1' '4 +\\n                        1'\n",
      " '4 +\\n                        2' '5 +\\n                        1'\n",
      " '6 +\\n                        1' '7 +\\n                        1'\n",
      " '21 +\\n                        1' '6 +\\n                        2'\n",
      " '5 +\\n                        2' 'Stüdyo'\n",
      " '7 +\\n                        2' '3 +\\n                        2'\n",
      " '2 +\\n                        0' '6 +\\n                        0'\n",
      " '9 +\\n                        4' '9 +\\n                        1'\n",
      " '3 +\\n                        0' '1 +\\n                        15'\n",
      " '2 +\\n                        2' '8 +\\n                        1'\n",
      " '41 +\\n                        4' '4 +\\n                        0'\n",
      " '1 +\\n                        25' '4 +\\n                        4'\n",
      " '3 +\\n                        4' '1 +\\n                        2'\n",
      " '3 +\\n                        3' '31 +\\n                        1'\n",
      " '4 +\\n                        3' '9 +\\n                        5'\n",
      " '8 +\\n                        4' '4 +\\n                        5'\n",
      " '9 +\\n                        3' '25 +\\n                        5'\n",
      " '8 +\\n                        0' '9 +\\n                        9'\n",
      " '14 +\\n                        6' '10 +\\n                        1']\n"
     ]
    }
   ],
   "source": [
    "print(df['celly'].unique())"
   ]
  },
  {
   "cell_type": "code",
   "execution_count": 14,
   "metadata": {},
   "outputs": [],
   "source": [
    "df['celly'] = df['celly'].apply(lambda x: x.replace('Stüdyo', '1 + 0'))\n",
    "df['celly'] = df['celly'].apply(lambda x: x.replace('\\n', ''))\n",
    "df['room'] = df['celly'].apply(lambda x: x.split('+')[0]).astype(int)\n",
    "df['living_room'] = df['celly'].apply(lambda x: x.split('+')[1]).astype(int)"
   ]
  },
  {
   "cell_type": "code",
   "execution_count": 15,
   "metadata": {},
   "outputs": [
    {
     "name": "stdout",
     "output_type": "stream",
     "text": [
      "[ 1  2  0  4 15 25  3  5  9  6]\n"
     ]
    }
   ],
   "source": [
    "print(df['living_room'].unique())"
   ]
  },
  {
   "cell_type": "code",
   "execution_count": 16,
   "metadata": {},
   "outputs": [],
   "source": [
    "drop_columns(df, ['celly'])"
   ]
  },
  {
   "cell_type": "code",
   "execution_count": 17,
   "metadata": {},
   "outputs": [
    {
     "name": "stdout",
     "output_type": "stream",
     "text": [
      "<class 'pandas.core.frame.DataFrame'>\n",
      "RangeIndex: 8136 entries, 0 to 8135\n",
      "Data columns (total 9 columns):\n",
      " #   Column           Non-Null Count  Dtype \n",
      "---  ------           --------------  ----- \n",
      " 0   list-view-price  8136 non-null   object\n",
      " 1   celly 2          8136 non-null   object\n",
      " 2   celly 3          8136 non-null   object\n",
      " 3   celly 4          6858 non-null   object\n",
      " 4   city             8136 non-null   object\n",
      " 5   district         8136 non-null   object\n",
      " 6   neighborhood     8136 non-null   object\n",
      " 7   room             8136 non-null   int64 \n",
      " 8   living_room      8136 non-null   int64 \n",
      "dtypes: int64(2), object(7)\n",
      "memory usage: 572.2+ KB\n",
      "None\n"
     ]
    }
   ],
   "source": [
    "print(df.info())"
   ]
  },
  {
   "cell_type": "code",
   "execution_count": 18,
   "metadata": {},
   "outputs": [
    {
     "name": "stdout",
     "output_type": "stream",
     "text": [
      "['55 m²' '150 m²' '60 m²' '160 m²' '135 m²' '67 m²' '140 m²' '170 m²'\n",
      " '130 m²' '230 m²' '220 m²' '210 m²' '89 m²' '120 m²' '200 m²' '355 m²'\n",
      " '75 m²' '110 m²' '100 m²' '65 m²' '145 m²' '115 m²' '1.000 m²' '250 m²'\n",
      " '105 m²' '50 m²' '87 m²' '90 m²' '85 m²' '155 m²' '275 m²' '240 m²'\n",
      " '95 m²' '174 m²' '80 m²' '125 m²' '180 m²' '165 m²' '350 m²' '97 m²'\n",
      " '45 m²' '300 m²' '84 m²' '42 m²' '98 m²' '86 m²' '500 m²' '70 m²' '51 m²'\n",
      " '73 m²' '132 m²' '325 m²' '141 m²' '450 m²' '600 m²' '47 m²' '72 m²'\n",
      " '71 m²' '3.000 m²' '175 m²' '320 m²' '280 m²' '156 m²' '190 m²' '78 m²'\n",
      " '162 m²' '185 m²' '18 m²' '330 m²' '151 m²' '56 m²' '136 m²' '131 m²'\n",
      " '48 m²' '580 m²' '119 m²' '147 m²' '77 m²' '245 m²' '35 m²' '375 m²'\n",
      " '146 m²' '161 m²' '163 m²' '149 m²' '206 m²' '138 m²' '93 m²' '63 m²'\n",
      " '41 m²' '183 m²' '96 m²' '108 m²' '76 m²' '475 m²' '359 m²' '124 m²'\n",
      " '91 m²' '194 m²' '43 m²' '4.500 m²' '68 m²' '205 m²' '20 m²' '103 m²'\n",
      " '53 m²' '270 m²' '58 m²' '302 m²' '505 m²' '800 m²' '168 m²' '154 m²'\n",
      " '368 m²' '178 m²' '40 m²' '750 m²' '92 m²' '181 m²' '400 m²' '30 m²'\n",
      " '260 m²' '460 m²' '390 m²' '64 m²' '360 m²' '340 m²' '550 m²' '38 m²'\n",
      " '121 m²' '4.000 m²' '295 m²' '112 m²' '137 m²' '22 m²' '128 m²'\n",
      " '3.200 m²' '440 m²' '122 m²' '370 m²' '380 m²' '204 m²' '148 m²' '142 m²'\n",
      " '520 m²' '166 m²' '870 m²' '143 m²' '57 m²' '286 m²' '81 m²' '116 m²'\n",
      " '209 m²' '59 m²' '106 m²' '74 m²' '1.301 m²' '52 m²' '167 m²' '217 m²'\n",
      " '25 m²' '290 m²' '196 m²' '184 m²' '159 m²' '195 m²' '640 m²' '285 m²'\n",
      " '235 m²' '337 m²' '211 m²' '134 m²' '832 m²' '152 m²' '88 m²' '213 m²'\n",
      " '126 m²' '255 m²' '199 m²' '127 m²' '11 m²' '66 m²' '399 m²' '187 m²'\n",
      " '341 m²' '745 m²' '118 m²' '144 m²' '15 m²' '535 m²' '5.500 m²' '114 m²'\n",
      " '208 m²' '94 m²' '46 m²' '173 m²' '900 m²' '225 m²' '402 m²' '111 m²'\n",
      " '193 m²' '1.100 m²' '212 m²' '102 m²' '177 m²' '101 m²' '164 m²' '158 m²'\n",
      " '62 m²' '172 m²' '9.000 m²' '21 m²' '117 m²' '82 m²' '49 m²' '176 m²'\n",
      " '182 m²' '981 m²' '256 m²' '32 m²' '3.510 m²' '215 m²' '1.057 m²'\n",
      " '171 m²' '79 m²' '169 m²' '28 m²' '104 m²' '201 m²' '310 m²' '1.150 m²'\n",
      " '2.000 m²' '228 m²' '700 m²' '349 m²' '203 m²' '510 m²' '31 m²' '33 m²'\n",
      " '950 m²' '650 m²' '252 m²' '493 m²' '265 m²' '1.400 m²' '5 m²' '113 m²'\n",
      " '36 m²' '317 m²' '850 m²' '249 m²' '109 m²' '420 m²' '995 m²' '545 m²'\n",
      " '192 m²' '1.250 m²' '490 m²' '760 m²' '157 m²' '54 m²' '405 m²' '99 m²']\n"
     ]
    }
   ],
   "source": [
    "print(df['celly 2'].unique())"
   ]
  },
  {
   "cell_type": "code",
   "execution_count": null,
   "metadata": {},
   "outputs": [],
   "source": []
  },
  {
   "cell_type": "code",
   "execution_count": 19,
   "metadata": {},
   "outputs": [],
   "source": [
    "df['celly 2'] = df['celly 2'].apply(lambda x: x.replace('.', ''))\n",
    "df['area'] = df['celly 2'].apply(lambda x: x.split(' ')[0]).astype(int)"
   ]
  },
  {
   "cell_type": "code",
   "execution_count": 20,
   "metadata": {},
   "outputs": [
    {
     "name": "stdout",
     "output_type": "stream",
     "text": [
      "[  55  150   60  160  135   67  140  170  130  230  220  210   89  120\n",
      "  200  355   75  110  100   65  145  115 1000  250  105   50   87   90\n",
      "   85  155  275  240   95  174   80  125  180  165  350   97   45  300\n",
      "   84   42   98   86  500   70   51   73  132  325  141  450  600   47\n",
      "   72   71 3000  175  320  280  156  190   78  162  185   18  330  151\n",
      "   56  136  131   48  580  119  147   77  245   35  375  146  161  163\n",
      "  149  206  138   93   63   41  183   96  108   76  475  359  124   91\n",
      "  194   43 4500   68  205   20  103   53  270   58  302  505  800  168\n",
      "  154  368  178   40  750   92  181  400   30  260  460  390   64  360\n",
      "  340  550   38  121 4000  295  112  137   22  128 3200  440  122  370\n",
      "  380  204  148  142  520  166  870  143   57  286   81  116  209   59\n",
      "  106   74 1301   52  167  217   25  290  196  184  159  195  640  285\n",
      "  235  337  211  134  832  152   88  213  126  255  199  127   11   66\n",
      "  399  187  341  745  118  144   15  535 5500  114  208   94   46  173\n",
      "  900  225  402  111  193 1100  212  102  177  101  164  158   62  172\n",
      " 9000   21  117   82   49  176  182  981  256   32 3510  215 1057  171\n",
      "   79  169   28  104  201  310 1150 2000  228  700  349  203  510   31\n",
      "   33  950  650  252  493  265 1400    5  113   36  317  850  249  109\n",
      "  420  995  545  192 1250  490  760  157   54  405   99]\n"
     ]
    }
   ],
   "source": [
    "print(df['area'].unique())"
   ]
  },
  {
   "cell_type": "code",
   "execution_count": 21,
   "metadata": {},
   "outputs": [],
   "source": [
    "drop_columns(df, ['celly 2'])"
   ]
  },
  {
   "cell_type": "code",
   "execution_count": 22,
   "metadata": {},
   "outputs": [
    {
     "name": "stdout",
     "output_type": "stream",
     "text": [
      "<class 'pandas.core.frame.DataFrame'>\n",
      "RangeIndex: 8136 entries, 0 to 8135\n",
      "Data columns (total 9 columns):\n",
      " #   Column           Non-Null Count  Dtype \n",
      "---  ------           --------------  ----- \n",
      " 0   list-view-price  8136 non-null   object\n",
      " 1   celly 3          8136 non-null   object\n",
      " 2   celly 4          6858 non-null   object\n",
      " 3   city             8136 non-null   object\n",
      " 4   district         8136 non-null   object\n",
      " 5   neighborhood     8136 non-null   object\n",
      " 6   room             8136 non-null   int64 \n",
      " 7   living_room      8136 non-null   int64 \n",
      " 8   area             8136 non-null   int64 \n",
      "dtypes: int64(3), object(6)\n",
      "memory usage: 572.2+ KB\n",
      "None\n"
     ]
    }
   ],
   "source": [
    "print(df.info())"
   ]
  },
  {
   "cell_type": "code",
   "execution_count": 23,
   "metadata": {},
   "outputs": [
    {
     "name": "stdout",
     "output_type": "stream",
     "text": [
      "['25\\n                      Yaşında' '35\\n                      Yaşında'\n",
      " '2\\n                      Yaşında' '27\\n                      Yaşında'\n",
      " '15\\n                      Yaşında' '10\\n                      Yaşında'\n",
      " '20\\n                      Yaşında' '30\\n                      Yaşında'\n",
      " '16\\n                      Yaşında' '11\\n                      Yaşında'\n",
      " '31\\n                      Yaşında' 'Sıfır Bina'\n",
      " '5\\n                      Yaşında' '26\\n                      Yaşında'\n",
      " '12\\n                      Yaşında' '4\\n                      Yaşında'\n",
      " '6\\n                      Yaşında' '22\\n                      Yaşında'\n",
      " '23\\n                      Yaşında' '29\\n                      Yaşında'\n",
      " '3\\n                      Yaşında' '8\\n                      Yaşında'\n",
      " '33\\n                      Yaşında' '50\\n                      Yaşında'\n",
      " '7\\n                      Yaşında' '18\\n                      Yaşında'\n",
      " '32\\n                      Yaşında' '28\\n                      Yaşında'\n",
      " '14\\n                      Yaşında' '40\\n                      Yaşında'\n",
      " '9\\n                      Yaşında' '21\\n                      Yaşında'\n",
      " '45\\n                      Yaşında' '38\\n                      Yaşında'\n",
      " '19\\n                      Yaşında' '24\\n                      Yaşında'\n",
      " '17\\n                      Yaşında' '1\\n                      Yaşında'\n",
      " '36\\n                      Yaşında' '34\\n                      Yaşında'\n",
      " '13\\n                      Yaşında' '42\\n                      Yaşında'\n",
      " '44\\n                      Yaşında' '43\\n                      Yaşında'\n",
      " '37\\n                      Yaşında' '55\\n                      Yaşında'\n",
      " '47\\n                      Yaşında' '39\\n                      Yaşında'\n",
      " '49\\n                      Yaşında' '52\\n                      Yaşında'\n",
      " '300\\n                      Yaşında' '199\\n                      Yaşında'\n",
      " '48\\n                      Yaşında' '60\\n                      Yaşında'\n",
      " '61\\n                      Yaşında' '600\\n                      Yaşında'\n",
      " '100\\n                      Yaşında']\n"
     ]
    }
   ],
   "source": [
    "print(df['celly 3'].unique())"
   ]
  },
  {
   "cell_type": "code",
   "execution_count": 24,
   "metadata": {},
   "outputs": [],
   "source": [
    "df['celly 3'] = df['celly 3'].apply(lambda x: x.replace('Sıfır Bina','0 Yaşında'))\n",
    "df['celly 3'] = df['celly 3'].apply(lambda x: x.replace('\\n',' '))\n",
    "df['age']=df['celly 3'].apply(lambda x: x.split(' ')[0]).astype(int)"
   ]
  },
  {
   "cell_type": "code",
   "execution_count": 25,
   "metadata": {},
   "outputs": [
    {
     "name": "stdout",
     "output_type": "stream",
     "text": [
      "[ 25  35   2  27  15  10  20  30  16  11  31   0   5  26  12   4   6  22\n",
      "  23  29   3   8  33  50   7  18  32  28  14  40   9  21  45  38  19  24\n",
      "  17   1  36  34  13  42  44  43  37  55  47  39  49  52 300 199  48  60\n",
      "  61 600 100]\n"
     ]
    }
   ],
   "source": [
    "print(df['age'].unique())"
   ]
  },
  {
   "cell_type": "code",
   "execution_count": 26,
   "metadata": {},
   "outputs": [],
   "source": [
    "drop_columns(df,['celly 3'])"
   ]
  },
  {
   "cell_type": "code",
   "execution_count": 27,
   "metadata": {},
   "outputs": [
    {
     "name": "stdout",
     "output_type": "stream",
     "text": [
      "<class 'pandas.core.frame.DataFrame'>\n",
      "RangeIndex: 8136 entries, 0 to 8135\n",
      "Data columns (total 9 columns):\n",
      " #   Column           Non-Null Count  Dtype \n",
      "---  ------           --------------  ----- \n",
      " 0   list-view-price  8136 non-null   object\n",
      " 1   celly 4          6858 non-null   object\n",
      " 2   city             8136 non-null   object\n",
      " 3   district         8136 non-null   object\n",
      " 4   neighborhood     8136 non-null   object\n",
      " 5   room             8136 non-null   int64 \n",
      " 6   living_room      8136 non-null   int64 \n",
      " 7   area             8136 non-null   int64 \n",
      " 8   age              8136 non-null   int64 \n",
      "dtypes: int64(4), object(5)\n",
      "memory usage: 572.2+ KB\n",
      "None\n"
     ]
    }
   ],
   "source": [
    "print(df.info())"
   ]
  },
  {
   "cell_type": "code",
   "execution_count": 28,
   "metadata": {},
   "outputs": [
    {
     "name": "stdout",
     "output_type": "stream",
     "text": [
      "['Yüksek Giriş' '3. Kat' 'Ara Kat' '4. Kat' '2. Kat' 'Zemin' nan\n",
      " 'Tripleks' 'Villa Katı' 'Bahçe Katı' '1. Kat' '8. Kat' '6. Kat'\n",
      " 'Giriş Katı' '5. Kat' '7. Kat' '21 ve üzeri' 'En Üst Kat' 'Teras Katı'\n",
      " '13. Kat' 'Kot 1' '9. Kat' 'Çatı Katı' '10. Kat' '12. Kat' 'Kot 2'\n",
      " '15. Kat' 'Bodrum ve Zemin' '11. Kat' 'Kot 3' '18. Kat' '20. Kat'\n",
      " 'Yarı Bodrum' '14. Kat' '16. Kat' '17. Kat' 'Asma Kat' 'Bodrum' '19. Kat']\n"
     ]
    }
   ],
   "source": [
    "print(df['celly 4'].unique())"
   ]
  },
  {
   "cell_type": "code",
   "execution_count": 30,
   "metadata": {},
   "outputs": [],
   "source": [
    "\n",
    "replace_dict = {\n",
    "    'Kot 2': '-2. Kat',\n",
    "    'Kot 1': '-1. Kat',\n",
    "    'Yüksek Giriş': '1. Kat',\n",
    "    'Ara Kat': '3. Kat',\n",
    "    'En Üst Kat': '5. Kat',\n",
    "    'Bahçe Katı': '0. Kat',\n",
    "    'Yarı Bodrum': '0. Kat',\n",
    "    'Bodrum': '0. Kat',\n",
    "    'Kot 3': '-3. Kat',\n",
    "    'Çatı Katı': '5. Kat',\n",
    "    'Zemin': '0. Kat',\n",
    "    'Giriş Katı': '0. Kat',\n",
    "    'Villa Katı': '0. Kat',\n",
    "    '21 ve üzeri': '21. Kat',\n",
    "    'Bodrum ve Zemin': '0. Kat',\n",
    "    'Asma Kat': '1. Kat',\n",
    "    'Tripleks': '0. Kat',\n",
    "    'Teras Katı': '5. Kat',\n",
    "    'nan': '2. Kat',\n",
    "}\n",
    "df['celly 4'] = df['celly 4'].replace(replace_dict.keys(), replace_dict.values()).astype(str)\n",
    "df['celly 4'].dropna(inplace=True)\n",
    "df['floor'] = df['celly 4'].apply(lambda x: x.split('.')[0]).astype(int)\n"
   ]
  },
  {
   "cell_type": "code",
   "execution_count": 31,
   "metadata": {},
   "outputs": [
    {
     "name": "stdout",
     "output_type": "stream",
     "text": [
      "[ 1  3  4  2  0  8  6  5  7 21 13 -1  9 10 12 -2 15 11 -3 18 20 14 16 17\n",
      " 19]\n"
     ]
    }
   ],
   "source": [
    "print(df['floor'].unique())"
   ]
  },
  {
   "cell_type": "code",
   "execution_count": 32,
   "metadata": {},
   "outputs": [],
   "source": [
    "drop_columns(df,['celly 4'])"
   ]
  },
  {
   "cell_type": "code",
   "execution_count": 33,
   "metadata": {},
   "outputs": [
    {
     "name": "stdout",
     "output_type": "stream",
     "text": [
      "<class 'pandas.core.frame.DataFrame'>\n",
      "Index: 6858 entries, 0 to 8135\n",
      "Data columns (total 9 columns):\n",
      " #   Column           Non-Null Count  Dtype \n",
      "---  ------           --------------  ----- \n",
      " 0   list-view-price  6858 non-null   object\n",
      " 1   city             6858 non-null   object\n",
      " 2   district         6858 non-null   object\n",
      " 3   neighborhood     6858 non-null   object\n",
      " 4   room             6858 non-null   int64 \n",
      " 5   living_room      6858 non-null   int64 \n",
      " 6   area             6858 non-null   int64 \n",
      " 7   age              6858 non-null   int64 \n",
      " 8   floor            6858 non-null   int64 \n",
      "dtypes: int64(5), object(4)\n",
      "memory usage: 535.8+ KB\n",
      "None\n"
     ]
    }
   ],
   "source": [
    "print(df.info())"
   ]
  },
  {
   "cell_type": "code",
   "execution_count": 34,
   "metadata": {},
   "outputs": [
    {
     "name": "stdout",
     "output_type": "stream",
     "text": [
      "['12.000' '16.000' '200' '18.000' '45.000' '35.000' '25.000' '22.000'\n",
      " '15.000' '240.000' '1.200.000' '30.000' '20.000' '180.000' '60.000'\n",
      " '10.500' '13.000' '10.000' '12.500' '21.000' '190.000' '17.000' '11.000'\n",
      " '27.500' '23.000' '55.000' '19.750' '50.000' '34.000' '19.500' '28.500'\n",
      " '24.500' '24.000' '29.000' '16.750' '14.000' '220.000' '19.000' '21.500'\n",
      " '350.000' '9.000' '14.500' '25.500' '18.500' '480.000' '5.000' '16.500'\n",
      " '13.750' '17.500' '27.000' '11.500' '200.000' '90.000' '15.750' '118.000'\n",
      " '400.000' '13.500' '38.000' '750.000' '57.500' '28.000' '4.875.000'\n",
      " '8.500' '15.250' '7.000' '300.000' '500.000' '18.750' '22.500' '32.000'\n",
      " '104.000' '1.600.000' '150.000' '20.500' '70.000' '250.000' '75.000'\n",
      " '40.000' '48.000' '17.250' '48.500' '22.500.000' '57.000' '550.000'\n",
      " '65.000' '53.000' '66.000' '12.950' '62.000' '265.000' '18.250' '41.000'\n",
      " '26.900' '17.750' '100.000' '62.500' '7.500' '33.000' '29.999' '14.750'\n",
      " '37.000' '16.200' '275.000' '26.000' '8.000' '375.000' '210.000' '8.250'\n",
      " '650.000' '39.500' '46.000' '130.000' '28.900' '9.250' '15.900' '10.757'\n",
      " '10.750' '1.400.000' '29.500' '13.250' '450.000' '20.999' '31.000'\n",
      " '370.000' '9.500' '15.500' '14.700' '269.900' '14.100' '120.000'\n",
      " '530.000' '16.250' '36.500' '225.000' '6.500' '17.950' '10.900' '460.000'\n",
      " '85.000' '42.500' '8.750' '1.250.000' '140.000' '9.750' '125.000'\n",
      " '2.550.000' '6.000' '37.500' '7.250' '43.000' '5.500' '83.000' '325.000'\n",
      " '350' '4.500' '39.000' '21.750' '235.000' '96.000' '52.500' '19.360'\n",
      " '4.000' '3.500' '9.800' '680.000' '34.500' '170.000' '26.500' '18.450'\n",
      " '1.650.000' '23.500' '36.000' '10.400' '10.999' '7.950' '2.250.000'\n",
      " '260.000' '13.900.000' '2.500' '80.000' '110.000' '600.000' '380.000'\n",
      " '300' '9.999' '9.200' '2.265.000' '590.000' '280.000' '23' '29.750'\n",
      " '14.250' '1.050.000' '415.000' '11.111' '160.000' '330.000' '24.750'\n",
      " '15.950' '175.000' '14.999' '195.000' '8.000.000' '1.025.000' '67.000'\n",
      " '1.500' '14.990' '270.000' '3.000' '13.950' '950.000' '1.250' '1.000.000'\n",
      " '63.000' '1.200' '8.950' '760.000' '13' '67.500' '12' '800.000' '165.000'\n",
      " '26.750' '1.000' '4.950' '15' '390.000' '1.725.000' '7.800' '7.750'\n",
      " '12.750' '16.500.000' '11.250' '7.900' '12.850' '10.800' '11.750' 7.5 4.5\n",
      " 10.0 8.0 19.0 6.5 18.5 9.5 7.0 12.0 6.0 8.5 15.0 9.0 7.75 6.75 16.5 20.0\n",
      " 22.0 7.25 21.0 14.0 '4.250' '5.250' '6.750' '6.600' '5.100' '5.600'\n",
      " '1.100.000' '2.000' '9.850' '26.000.000' '3.400' '14.300' '8.700'\n",
      " '9.950.000' '120.000.000' '11' '890.000' '42.000' '4.650.000' '1.700'\n",
      " '8.550' '8.900' '7.200' '3.500.000' '11.900' '1.190.000' '1.840.000'\n",
      " '6.250' '8.100' '750' '7.999' '3.999' '6.900' '5.750' '7.400' '6.999'\n",
      " '1.850.000' '1.800.000' '7.100' '6.800' '5.700' '9.900' '4.999' '4.750'\n",
      " '5.999' '8.400' '8.300' '44.000' '740.000' '49.000' '700.000' '365.000'\n",
      " '355.000' '255.000' '95.000' '185.000' '1' '360.000' '485.000'\n",
      " '4.050.000' '475.000' '32.500' '510.000' '1.225.000' '3.900.000'\n",
      " '30.000.000' '72.000' '243.000' '2.300.000' '49.950' '840.000' '58.000'\n",
      " '410.000' '310.000' '7.300' '3.000.000' '1.700.000' '2.750' '16.350'\n",
      " '320.000' '17.000.000' '145.000' '41.600' '495.000' '65.500' '2.250'\n",
      " '595.000' '19.800' '32.750' '900.000' '465.000' '420.000' '31.500'\n",
      " '630.000' '995.000' '241.800' '340.000' '6.500.000' '2.175.000'\n",
      " '2.200.000' '6.150.000' '16.400' '3.250' '1.070.000' '560.000'\n",
      " '1.750.000' '3.250.000' '790.000' '620.000']\n"
     ]
    }
   ],
   "source": [
    "print(df['list-view-price'].unique())"
   ]
  },
  {
   "cell_type": "code",
   "execution_count": 35,
   "metadata": {},
   "outputs": [],
   "source": [
    "\n",
    "df['list-view-price'] = df['list-view-price'].astype(str).apply(lambda x: x.replace('.', ''))\n",
    "df['price'] = df['list-view-price'].astype(int)"
   ]
  },
  {
   "cell_type": "code",
   "execution_count": 36,
   "metadata": {},
   "outputs": [
    {
     "name": "stdout",
     "output_type": "stream",
     "text": [
      "[    12000     16000       200     18000     45000     35000     25000\n",
      "     22000     15000    240000   1200000     30000     20000    180000\n",
      "     60000     10500     13000     10000     12500     21000    190000\n",
      "     17000     11000     27500     23000     55000     19750     50000\n",
      "     34000     19500     28500     24500     24000     29000     16750\n",
      "     14000    220000     19000     21500    350000      9000     14500\n",
      "     25500     18500    480000      5000     16500     13750     17500\n",
      "     27000     11500    200000     90000     15750    118000    400000\n",
      "     13500     38000    750000     57500     28000   4875000      8500\n",
      "     15250      7000    300000    500000     18750     22500     32000\n",
      "    104000   1600000    150000     20500     70000    250000     75000\n",
      "     40000     48000     17250     48500  22500000     57000    550000\n",
      "     65000     53000     66000     12950     62000    265000     18250\n",
      "     41000     26900     17750    100000     62500      7500     33000\n",
      "     29999     14750     37000     16200    275000     26000      8000\n",
      "    375000    210000      8250    650000     39500     46000    130000\n",
      "     28900      9250     15900     10757     10750   1400000     29500\n",
      "     13250    450000     20999     31000    370000      9500     15500\n",
      "     14700    269900     14100    120000    530000     16250     36500\n",
      "    225000      6500     17950     10900    460000     85000     42500\n",
      "      8750   1250000    140000      9750    125000   2550000      6000\n",
      "     37500      7250     43000      5500     83000    325000       350\n",
      "      4500     39000     21750    235000     96000     52500     19360\n",
      "      4000      3500      9800    680000     34500    170000     26500\n",
      "     18450   1650000     23500     36000     10400     10999      7950\n",
      "   2250000    260000  13900000      2500     80000    110000    600000\n",
      "    380000       300      9999      9200   2265000    590000    280000\n",
      "        23     29750     14250   1050000    415000     11111    160000\n",
      "    330000     24750     15950    175000     14999    195000   8000000\n",
      "   1025000     67000      1500     14990    270000      3000     13950\n",
      "    950000      1250   1000000     63000      1200      8950    760000\n",
      "        13     67500        12    800000    165000     26750      1000\n",
      "      4950        15    390000   1725000      7800      7750     12750\n",
      "  16500000     11250      7900     12850     10800     11750        75\n",
      "        45       100        80       190        65       185        95\n",
      "        70       120        60        85       150        90       775\n",
      "       675       165       220       725       210       140      4250\n",
      "      5250      6750      6600      5100      5600   1100000      2000\n",
      "      9850  26000000      3400     14300      8700   9950000 120000000\n",
      "        11    890000     42000   4650000      1700      8550      8900\n",
      "      7200   3500000     11900   1190000   1840000      6250      8100\n",
      "       750      7999      3999      6900      5750      7400      6999\n",
      "   1850000   1800000      7100      6800      5700      9900      4999\n",
      "      4750      5999      8400      8300     44000    740000     49000\n",
      "    700000    365000    355000    255000     95000    185000         1\n",
      "    360000    485000   4050000    475000     32500    510000   1225000\n",
      "   3900000  30000000     72000    243000   2300000     49950    840000\n",
      "     58000    410000    310000      7300   3000000   1700000      2750\n",
      "     16350    320000  17000000    145000     41600    495000     65500\n",
      "      2250    595000     19800     32750    900000    465000    420000\n",
      "     31500    630000    995000    241800    340000   6500000   2175000\n",
      "   2200000   6150000     16400      3250   1070000    560000   1750000\n",
      "   3250000    790000    620000]\n"
     ]
    }
   ],
   "source": [
    "print(df['price'].unique())"
   ]
  },
  {
   "cell_type": "code",
   "execution_count": 37,
   "metadata": {},
   "outputs": [],
   "source": [
    "drop_columns(df,['list-view-price'])"
   ]
  },
  {
   "cell_type": "code",
   "execution_count": 38,
   "metadata": {},
   "outputs": [
    {
     "name": "stdout",
     "output_type": "stream",
     "text": [
      "<class 'pandas.core.frame.DataFrame'>\n",
      "Index: 6858 entries, 0 to 8135\n",
      "Data columns (total 9 columns):\n",
      " #   Column        Non-Null Count  Dtype \n",
      "---  ------        --------------  ----- \n",
      " 0   city          6858 non-null   object\n",
      " 1   district      6858 non-null   object\n",
      " 2   neighborhood  6858 non-null   object\n",
      " 3   room          6858 non-null   int64 \n",
      " 4   living_room   6858 non-null   int64 \n",
      " 5   area          6858 non-null   int64 \n",
      " 6   age           6858 non-null   int64 \n",
      " 7   floor         6858 non-null   int64 \n",
      " 8   price         6858 non-null   int64 \n",
      "dtypes: int64(6), object(3)\n",
      "memory usage: 535.8+ KB\n",
      "None\n"
     ]
    }
   ],
   "source": [
    "print(df.info())"
   ]
  },
  {
   "cell_type": "code",
   "execution_count": 1,
   "metadata": {},
   "outputs": [
    {
     "ename": "NameError",
     "evalue": "name 'df' is not defined",
     "output_type": "error",
     "traceback": [
      "\u001b[1;31m---------------------------------------------------------------------------\u001b[0m",
      "\u001b[1;31mNameError\u001b[0m                                 Traceback (most recent call last)",
      "Cell \u001b[1;32mIn[1], line 1\u001b[0m\n\u001b[1;32m----> 1\u001b[0m \u001b[43mdf\u001b[49m\u001b[38;5;241m.\u001b[39mto_csv(\u001b[38;5;124m'\u001b[39m\u001b[38;5;124mdata.csv\u001b[39m\u001b[38;5;124m'\u001b[39m, index\u001b[38;5;241m=\u001b[39m\u001b[38;5;28;01mFalse\u001b[39;00m)\n",
      "\u001b[1;31mNameError\u001b[0m: name 'df' is not defined"
     ]
    }
   ],
   "source": [
    "df.to_csv('data.csv', index=False)"
   ]
  },
  {
   "cell_type": "code",
   "execution_count": null,
   "metadata": {},
   "outputs": [],
   "source": []
  }
 ],
 "metadata": {
  "kernelspec": {
   "display_name": "Python 3",
   "language": "python",
   "name": "python3"
  },
  "language_info": {
   "codemirror_mode": {
    "name": "ipython",
    "version": 3
   },
   "file_extension": ".py",
   "mimetype": "text/x-python",
   "name": "python",
   "nbconvert_exporter": "python",
   "pygments_lexer": "ipython3",
   "version": "3.12.4"
  }
 },
 "nbformat": 4,
 "nbformat_minor": 2
}
