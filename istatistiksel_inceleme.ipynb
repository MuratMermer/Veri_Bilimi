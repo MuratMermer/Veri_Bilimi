{
 "cells": [
  {
   "cell_type": "markdown",
   "metadata": {},
   "source": [
    "## Verilerin istatistiksel olarak incelenmesi ve aykırı değerlerin ayıklanması"
   ]
  },
  {
   "cell_type": "markdown",
   "metadata": {},
   "source": [
    "Gerekli paket ve modüllerin yüklenmesi"
   ]
  },
  {
   "cell_type": "code",
   "execution_count": null,
   "metadata": {},
   "outputs": [],
   "source": [
    "import numpy as np\n",
    "import pandas as pd\n",
    "import matplotlib.pyplot as plt"
   ]
  },
  {
   "cell_type": "markdown",
   "metadata": {},
   "source": [
    "Verilerin yüklenmesi"
   ]
  },
  {
   "cell_type": "code",
   "execution_count": null,
   "metadata": {},
   "outputs": [],
   "source": [
    "df = pd.read_csv('data.csv')"
   ]
  },
  {
   "cell_type": "code",
   "execution_count": null,
   "metadata": {},
   "outputs": [
    {
     "name": "stdout",
     "output_type": "stream",
     "text": [
      "<class 'pandas.core.frame.DataFrame'>\n",
      "RangeIndex: 6858 entries, 0 to 6857\n",
      "Data columns (total 9 columns):\n",
      " #   Column        Non-Null Count  Dtype \n",
      "---  ------        --------------  ----- \n",
      " 0   city          6858 non-null   object\n",
      " 1   district      6858 non-null   object\n",
      " 2   neighborhood  6858 non-null   object\n",
      " 3   room          6858 non-null   int64 \n",
      " 4   living_room   6858 non-null   int64 \n",
      " 5   area          6858 non-null   int64 \n",
      " 6   age           6858 non-null   int64 \n",
      " 7   floor         6858 non-null   int64 \n",
      " 8   price         6858 non-null   int64 \n",
      "dtypes: int64(6), object(3)\n",
      "memory usage: 482.3+ KB\n",
      "None\n"
     ]
    }
   ],
   "source": [
    "print(df.info())"
   ]
  },
  {
   "cell_type": "code",
   "execution_count": null,
   "metadata": {},
   "outputs": [],
   "source": [
    "df['city'] = df['city'].astype('category')\n",
    "df['district'] = df['district'].astype('category')\n",
    "df['neighborhood'] = df['neighborhood'].astype('category')\n",
    "df['room'] = df['room'].astype('int')\n",
    "df['living_room'] = df['living_room'].astype('int')\n",
    "df['area'] = df['area'].astype('int')\n",
    "df['age'] = df['age'].astype('int')\n",
    "df['floor'] = df['floor'].astype('int')\n",
    "df['price'] = df['price'].astype('int')"
   ]
  },
  {
   "cell_type": "code",
   "execution_count": null,
   "metadata": {},
   "outputs": [
    {
     "name": "stdout",
     "output_type": "stream",
     "text": [
      "<class 'pandas.core.frame.DataFrame'>\n",
      "RangeIndex: 6858 entries, 0 to 6857\n",
      "Data columns (total 9 columns):\n",
      " #   Column        Non-Null Count  Dtype   \n",
      "---  ------        --------------  -----   \n",
      " 0   city          6858 non-null   category\n",
      " 1   district      6858 non-null   category\n",
      " 2   neighborhood  6858 non-null   category\n",
      " 3   room          6858 non-null   int64   \n",
      " 4   living_room   6858 non-null   int64   \n",
      " 5   area          6858 non-null   int64   \n",
      " 6   age           6858 non-null   int64   \n",
      " 7   floor         6858 non-null   int64   \n",
      " 8   price         6858 non-null   int64   \n",
      "dtypes: category(3), int64(6)\n",
      "memory usage: 373.0 KB\n",
      "None\n"
     ]
    }
   ],
   "source": [
    "print(df.info())"
   ]
  },
  {
   "cell_type": "markdown",
   "metadata": {},
   "source": [
    "Nümerik değişkenlerin minimum, maximum ve çeyreklik değerlerinin bulunması"
   ]
  },
  {
   "cell_type": "code",
   "execution_count": 8,
   "metadata": {},
   "outputs": [
    {
     "name": "stdout",
     "output_type": "stream",
     "text": [
      "Column: room, min: 0.5, max: 4.5\n",
      "Column: living_room, min: 1.0, max: 1.0\n",
      "Column: area, min: -25.0, max: 231.0\n",
      "Column: age, min: -20.0, max: 44.0\n",
      "Column: floor, min: -2.0, max: 6.0\n",
      "Column: price, min: -8750.0, max: 45250.0\n"
     ]
    }
   ],
   "source": [
    "columns = df.select_dtypes(include=[np.number]).columns\n",
    "min_values = []\n",
    "max_values = []\n",
    "for column in columns:\n",
    "    Q1 = df[column].quantile(0.25)\n",
    "    Q3 = df[column].quantile(0.75)\n",
    "    IQR = Q3 - Q1\n",
    "    min_value = Q1 - 1.5 * IQR\n",
    "    max_value = Q3 + 1.5 * IQR\n",
    "    min_values.append(min_value)\n",
    "    max_values.append(max_value)\n",
    "    print(f\"Column: {column}, min: {min_value}, max: {max_value}\")"
   ]
  },
  {
   "cell_type": "markdown",
   "metadata": {},
   "source": [
    "Aykırı değerlerin temizlenmesi"
   ]
  },
  {
   "cell_type": "code",
   "execution_count": 11,
   "metadata": {},
   "outputs": [],
   "source": [
    "for i, column in enumerate(columns):\n",
    "    df = df[(df[column] >= min_values[i]) & (df[column] <= max_values[i])]"
   ]
  },
  {
   "cell_type": "code",
   "execution_count": 12,
   "metadata": {},
   "outputs": [
    {
     "name": "stdout",
     "output_type": "stream",
     "text": [
      "<class 'pandas.core.frame.DataFrame'>\n",
      "Index: 5644 entries, 0 to 6857\n",
      "Data columns (total 9 columns):\n",
      " #   Column        Non-Null Count  Dtype   \n",
      "---  ------        --------------  -----   \n",
      " 0   city          5644 non-null   category\n",
      " 1   district      5644 non-null   category\n",
      " 2   neighborhood  5644 non-null   category\n",
      " 3   room          5644 non-null   int64   \n",
      " 4   living_room   5644 non-null   int64   \n",
      " 5   area          5644 non-null   int64   \n",
      " 6   age           5644 non-null   int64   \n",
      " 7   floor         5644 non-null   int64   \n",
      " 8   price         5644 non-null   int64   \n",
      "dtypes: category(3), int64(6)\n",
      "memory usage: 355.3 KB\n",
      "None\n"
     ]
    }
   ],
   "source": [
    "print(df.info())"
   ]
  },
  {
   "cell_type": "code",
   "execution_count": 13,
   "metadata": {},
   "outputs": [
    {
     "name": "stdout",
     "output_type": "stream",
     "text": [
      "              room  living_room         area          age        floor  \\\n",
      "count  5644.000000       5644.0  5644.000000  5644.000000  5644.000000   \n",
      "mean      2.131113          1.0   101.877038    12.733345     2.233345   \n",
      "std       0.812033          0.0    37.768240    10.560843     1.643361   \n",
      "min       1.000000          1.0     5.000000     0.000000    -2.000000   \n",
      "25%       2.000000          1.0    70.000000     4.000000     1.000000   \n",
      "50%       2.000000          1.0   100.000000    10.000000     2.000000   \n",
      "75%       3.000000          1.0   130.000000    20.000000     3.000000   \n",
      "max       4.000000          1.0   230.000000    44.000000     6.000000   \n",
      "\n",
      "              price  \n",
      "count   5644.000000  \n",
      "mean   16275.806166  \n",
      "std     7928.146837  \n",
      "min        1.000000  \n",
      "25%    11000.000000  \n",
      "50%    15000.000000  \n",
      "75%    20000.000000  \n",
      "max    45000.000000  \n"
     ]
    }
   ],
   "source": [
    "print(df.describe())"
   ]
  },
  {
   "cell_type": "markdown",
   "metadata": {},
   "source": [
    "Kira fiyatı için elle düzeltme"
   ]
  },
  {
   "cell_type": "code",
   "execution_count": 14,
   "metadata": {},
   "outputs": [],
   "source": [
    "df = df[df['price'] >= 3000]"
   ]
  },
  {
   "cell_type": "code",
   "execution_count": 16,
   "metadata": {},
   "outputs": [],
   "source": [
    "df.to_csv('data_cleaned.csv', index=False)"
   ]
  },
  {
   "cell_type": "code",
   "execution_count": 17,
   "metadata": {},
   "outputs": [
    {
     "name": "stdout",
     "output_type": "stream",
     "text": [
      "<class 'pandas.core.frame.DataFrame'>\n",
      "Index: 6116 entries, 23 to 8134\n",
      "Data columns (total 9 columns):\n",
      " #   Column        Non-Null Count  Dtype   \n",
      "---  ------        --------------  -----   \n",
      " 0   city          6116 non-null   category\n",
      " 1   district      6116 non-null   category\n",
      " 2   neighborhood  6116 non-null   category\n",
      " 3   room          6116 non-null   int64   \n",
      " 4   living_room   6116 non-null   int64   \n",
      " 5   area          6116 non-null   int64   \n",
      " 6   age           6116 non-null   int64   \n",
      " 7   floor         6116 non-null   int64   \n",
      " 8   price         6116 non-null   int64   \n",
      "dtypes: category(3), int64(6)\n",
      "memory usage: 383.3 KB\n",
      "None\n"
     ]
    }
   ],
   "source": [
    "print(df.info())"
   ]
  },
  {
   "cell_type": "code",
   "execution_count": 19,
   "metadata": {},
   "outputs": [
    {
     "name": "stdout",
     "output_type": "stream",
     "text": [
      "              room  living_room         area          age        floor  \\\n",
      "count  6116.000000       6116.0  6116.000000  6116.000000  6116.000000   \n",
      "mean      2.180020          1.0   104.830445    12.698169     2.198496   \n",
      "std       0.826463          0.0    39.467687    10.465384     1.589161   \n",
      "min       1.000000          1.0     5.000000     0.000000    -2.000000   \n",
      "25%       2.000000          1.0    75.000000     4.000000     1.000000   \n",
      "50%       2.000000          1.0   100.000000    10.000000     2.000000   \n",
      "75%       3.000000          1.0   130.000000    20.000000     3.000000   \n",
      "max       4.000000          1.0   240.000000    44.000000     6.000000   \n",
      "\n",
      "              price  \n",
      "count   6116.000000  \n",
      "mean   18170.733976  \n",
      "std    10323.229150  \n",
      "min     3000.000000  \n",
      "25%    11500.000000  \n",
      "50%    15000.000000  \n",
      "75%    21000.000000  \n",
      "max    60000.000000  \n"
     ]
    }
   ],
   "source": [
    "print(df.describe())"
   ]
  },
  {
   "cell_type": "code",
   "execution_count": 20,
   "metadata": {},
   "outputs": [],
   "source": [
    "df.to_csv('data_cleaned.csv', index=False)"
   ]
  },
  {
   "cell_type": "code",
   "execution_count": null,
   "metadata": {},
   "outputs": [],
   "source": []
  }
 ],
 "metadata": {
  "kernelspec": {
   "display_name": "base",
   "language": "python",
   "name": "python3"
  },
  "language_info": {
   "codemirror_mode": {
    "name": "ipython",
    "version": 3
   },
   "file_extension": ".py",
   "mimetype": "text/x-python",
   "name": "python",
   "nbconvert_exporter": "python",
   "pygments_lexer": "ipython3",
   "version": "3.9.12"
  }
 },
 "nbformat": 4,
 "nbformat_minor": 2
}
